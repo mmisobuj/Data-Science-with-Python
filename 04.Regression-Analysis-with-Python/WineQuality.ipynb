{
 "cells": [
  {
   "cell_type": "code",
   "execution_count": null,
   "metadata": {},
   "outputs": [],
   "source": []
  }
 ],
 "metadata": {
  "kernelspec": {
   "display_name": "Python 3.10.1 64-bit",
   "language": "python",
   "name": "python3"
  },
  "language_info": {
   "name": "python",
   "version": "3.10.1"
  },
  "orig_nbformat": 4,
  "vscode": {
   "interpreter": {
    "hash": "bcc784fc4c981d200f22a4bcb0a5bae6ff96a52caf99033103a88052d23824c8"
   }
  }
 },
 "nbformat": 4,
 "nbformat_minor": 2
}
