{
 "cells": [
  {
   "cell_type": "markdown",
   "metadata": {},
   "source": [
    "# Python Basic Syntex Learning\n",
    "#### input,string concate, data type, operators, Type conversion,String functions,String Formatting"
   ]
  },
  {
   "cell_type": "markdown",
   "metadata": {},
   "source": [
    "### How to get input value in python?"
   ]
  },
  {
   "cell_type": "code",
   "execution_count": 1,
   "metadata": {},
   "outputs": [
    {
     "name": "stdout",
     "output_type": "stream",
     "text": [
      "Md Mohidul Islam Sobuj\n"
     ]
    }
   ],
   "source": [
    "name=input(\"Enter your name: \")\n",
    "print(name)"
   ]
  },
  {
   "cell_type": "code",
   "execution_count": 4,
   "metadata": {},
   "outputs": [
    {
     "name": "stdout",
     "output_type": "stream",
     "text": [
      "Your age is 10 Years\n"
     ]
    }
   ],
   "source": [
    "age=int(input(\"How old are you?: \"))\n",
    "print(\"Your age is \"+str(age)+\" Years\")"
   ]
  },
  {
   "cell_type": "markdown",
   "metadata": {},
   "source": [
    "### String Concate"
   ]
  },
  {
   "cell_type": "code",
   "execution_count": 5,
   "metadata": {},
   "outputs": [
    {
     "name": "stdout",
     "output_type": "stream",
     "text": [
      "MD Mohidul Islam Sobuj\n"
     ]
    }
   ],
   "source": [
    "firstName=\"MD\"\n",
    "MidName=\"Mohidul\"\n",
    "LastName=\"Islam\"\n",
    "nickName=\"Sobuj\"\n",
    "fullname=firstName+\" \"+MidName+\" \"+LastName+\" \"+nickName\n",
    "print(fullname)\n"
   ]
  },
  {
   "cell_type": "markdown",
   "metadata": {},
   "source": [
    "### Data Types"
   ]
  },
  {
   "cell_type": "code",
   "execution_count": 11,
   "metadata": {},
   "outputs": [
    {
     "name": "stdout",
     "output_type": "stream",
     "text": [
      "<class 'str'>\n",
      "<class 'int'>\n",
      "<class 'float'>\n",
      "<class 'complex'>\n",
      "<class 'bool'>\n"
     ]
    }
   ],
   "source": [
    "name=\"Sobuj\"\n",
    "print(type(name))\n",
    "\n",
    "age=32\n",
    "print(type(age))\n",
    "\n",
    "age=32.5\n",
    "print(type(age))\n",
    "\n",
    "age=32j\n",
    "print(type(age))\n",
    "\n",
    "marrid=False\n",
    "print(type(marrid))\n"
   ]
  },
  {
   "cell_type": "markdown",
   "metadata": {},
   "source": [
    "### String functions"
   ]
  },
  {
   "cell_type": "code",
   "execution_count": null,
   "metadata": {},
   "outputs": [],
   "source": [
    "#String functions\n",
    "\n"
   ]
  }
 ],
 "metadata": {
  "kernelspec": {
   "display_name": "Python 3.10.1 64-bit",
   "language": "python",
   "name": "python3"
  },
  "language_info": {
   "codemirror_mode": {
    "name": "ipython",
    "version": 3
   },
   "file_extension": ".py",
   "mimetype": "text/x-python",
   "name": "python",
   "nbconvert_exporter": "python",
   "pygments_lexer": "ipython3",
   "version": "3.10.1"
  },
  "orig_nbformat": 4,
  "vscode": {
   "interpreter": {
    "hash": "bcc784fc4c981d200f22a4bcb0a5bae6ff96a52caf99033103a88052d23824c8"
   }
  }
 },
 "nbformat": 4,
 "nbformat_minor": 2
}
