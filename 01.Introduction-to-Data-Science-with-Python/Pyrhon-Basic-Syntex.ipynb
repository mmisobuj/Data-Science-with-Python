{
 "cells": [
  {
   "cell_type": "markdown",
   "metadata": {},
   "source": [
    "# Python Basic Syntex Learning\n",
    "#### input,string concate, data type, operators, Type conversion,String functions,String Formatting"
   ]
  },
  {
   "cell_type": "markdown",
   "metadata": {},
   "source": [
    "### How to get input value in python?"
   ]
  },
  {
   "cell_type": "code",
   "execution_count": 36,
   "metadata": {},
   "outputs": [
    {
     "ename": "KeyboardInterrupt",
     "evalue": "Interrupted by user",
     "output_type": "error",
     "traceback": [
      "\u001b[1;31m---------------------------------------------------------------------------\u001b[0m",
      "\u001b[1;31mKeyboardInterrupt\u001b[0m                         Traceback (most recent call last)",
      "\u001b[1;32md:\\ML_Learning\\PMASDS\\Data-Science-with-Python\\01.Introduction-to-Data-Science-with-Python\\Pyrhon-Basic-Syntex.ipynb Cell 3\u001b[0m in \u001b[0;36m<cell line: 1>\u001b[1;34m()\u001b[0m\n\u001b[1;32m----> <a href='vscode-notebook-cell:/d%3A/ML_Learning/PMASDS/Data-Science-with-Python/01.Introduction-to-Data-Science-with-Python/Pyrhon-Basic-Syntex.ipynb#W0sZmlsZQ%3D%3D?line=0'>1</a>\u001b[0m name\u001b[39m=\u001b[39m\u001b[39minput\u001b[39;49m(\u001b[39m\"\u001b[39;49m\u001b[39mEnter your name: \u001b[39;49m\u001b[39m\"\u001b[39;49m)\n\u001b[0;32m      <a href='vscode-notebook-cell:/d%3A/ML_Learning/PMASDS/Data-Science-with-Python/01.Introduction-to-Data-Science-with-Python/Pyrhon-Basic-Syntex.ipynb#W0sZmlsZQ%3D%3D?line=1'>2</a>\u001b[0m \u001b[39mprint\u001b[39m(name)\n",
      "File \u001b[1;32m~\\AppData\\Roaming\\Python\\Python310\\site-packages\\ipykernel\\kernelbase.py:1075\u001b[0m, in \u001b[0;36mKernel.raw_input\u001b[1;34m(self, prompt)\u001b[0m\n\u001b[0;32m   1071\u001b[0m \u001b[39mif\u001b[39;00m \u001b[39mnot\u001b[39;00m \u001b[39mself\u001b[39m\u001b[39m.\u001b[39m_allow_stdin:\n\u001b[0;32m   1072\u001b[0m     \u001b[39mraise\u001b[39;00m StdinNotImplementedError(\n\u001b[0;32m   1073\u001b[0m         \u001b[39m\"\u001b[39m\u001b[39mraw_input was called, but this frontend does not support input requests.\u001b[39m\u001b[39m\"\u001b[39m\n\u001b[0;32m   1074\u001b[0m     )\n\u001b[1;32m-> 1075\u001b[0m \u001b[39mreturn\u001b[39;00m \u001b[39mself\u001b[39;49m\u001b[39m.\u001b[39;49m_input_request(\n\u001b[0;32m   1076\u001b[0m     \u001b[39mstr\u001b[39;49m(prompt),\n\u001b[0;32m   1077\u001b[0m     \u001b[39mself\u001b[39;49m\u001b[39m.\u001b[39;49m_parent_ident[\u001b[39m\"\u001b[39;49m\u001b[39mshell\u001b[39;49m\u001b[39m\"\u001b[39;49m],\n\u001b[0;32m   1078\u001b[0m     \u001b[39mself\u001b[39;49m\u001b[39m.\u001b[39;49mget_parent(\u001b[39m\"\u001b[39;49m\u001b[39mshell\u001b[39;49m\u001b[39m\"\u001b[39;49m),\n\u001b[0;32m   1079\u001b[0m     password\u001b[39m=\u001b[39;49m\u001b[39mFalse\u001b[39;49;00m,\n\u001b[0;32m   1080\u001b[0m )\n",
      "File \u001b[1;32m~\\AppData\\Roaming\\Python\\Python310\\site-packages\\ipykernel\\kernelbase.py:1120\u001b[0m, in \u001b[0;36mKernel._input_request\u001b[1;34m(self, prompt, ident, parent, password)\u001b[0m\n\u001b[0;32m   1117\u001b[0m             \u001b[39mbreak\u001b[39;00m\n\u001b[0;32m   1118\u001b[0m \u001b[39mexcept\u001b[39;00m \u001b[39mKeyboardInterrupt\u001b[39;00m:\n\u001b[0;32m   1119\u001b[0m     \u001b[39m# re-raise KeyboardInterrupt, to truncate traceback\u001b[39;00m\n\u001b[1;32m-> 1120\u001b[0m     \u001b[39mraise\u001b[39;00m \u001b[39mKeyboardInterrupt\u001b[39;00m(\u001b[39m\"\u001b[39m\u001b[39mInterrupted by user\u001b[39m\u001b[39m\"\u001b[39m) \u001b[39mfrom\u001b[39;00m \u001b[39mNone\u001b[39m\n\u001b[0;32m   1121\u001b[0m \u001b[39mexcept\u001b[39;00m \u001b[39mException\u001b[39;00m:\n\u001b[0;32m   1122\u001b[0m     \u001b[39mself\u001b[39m\u001b[39m.\u001b[39mlog\u001b[39m.\u001b[39mwarning(\u001b[39m\"\u001b[39m\u001b[39mInvalid Message:\u001b[39m\u001b[39m\"\u001b[39m, exc_info\u001b[39m=\u001b[39m\u001b[39mTrue\u001b[39;00m)\n",
      "\u001b[1;31mKeyboardInterrupt\u001b[0m: Interrupted by user"
     ]
    }
   ],
   "source": [
    "name=input(\"Enter your name: \")\n",
    "print(name)"
   ]
  },
  {
   "cell_type": "code",
   "execution_count": null,
   "metadata": {},
   "outputs": [
    {
     "name": "stdout",
     "output_type": "stream",
     "text": [
      "Your age is 10 Years\n"
     ]
    }
   ],
   "source": [
    "age=int(input(\"How old are you?: \"))\n",
    "print(\"Your age is \"+str(age)+\" Years\")"
   ]
  },
  {
   "cell_type": "markdown",
   "metadata": {},
   "source": [
    "### String Concate"
   ]
  },
  {
   "cell_type": "code",
   "execution_count": null,
   "metadata": {},
   "outputs": [
    {
     "name": "stdout",
     "output_type": "stream",
     "text": [
      "MD Mohidul Islam Sobuj\n"
     ]
    }
   ],
   "source": [
    "firstName=\"MD\"\n",
    "MidName=\"Mohidul\"\n",
    "LastName=\"Islam\"\n",
    "nickName=\"Sobuj\"\n",
    "fullname=firstName+\" \"+MidName+\" \"+LastName+\" \"+nickName\n",
    "print(fullname)\n"
   ]
  },
  {
   "cell_type": "markdown",
   "metadata": {},
   "source": [
    "### Data Types"
   ]
  },
  {
   "cell_type": "code",
   "execution_count": null,
   "metadata": {},
   "outputs": [
    {
     "name": "stdout",
     "output_type": "stream",
     "text": [
      "<class 'str'>\n",
      "<class 'int'>\n",
      "<class 'float'>\n",
      "<class 'complex'>\n",
      "<class 'bool'>\n"
     ]
    }
   ],
   "source": [
    "name=\"Sobuj\"\n",
    "print(type(name))\n",
    "\n",
    "age=32\n",
    "print(type(age))\n",
    "\n",
    "age=32.5\n",
    "print(type(age))\n",
    "\n",
    "age=32j\n",
    "print(type(age))\n",
    "\n",
    "marrid=False\n",
    "print(type(marrid))\n"
   ]
  },
  {
   "cell_type": "code",
   "execution_count": 60,
   "metadata": {},
   "outputs": [
    {
     "name": "stdout",
     "output_type": "stream",
     "text": [
      "<class 'list'>\n",
      "<class 'dict'>\n",
      "<class 'tuple'>\n",
      "<class 'set'>\n"
     ]
    }
   ],
   "source": [
    "# List\n",
    "lst=[1,4,6,9,10.5,10j,\"sobuj\",True]\n",
    "print(type(lst))\n",
    "\n",
    "# Dictionary\n",
    "dic={name:\"sobuj\",age:32}\n",
    "print(type(dic))\n",
    "\n",
    "#Tuple\n",
    "tp=(1,4,6,9,10.5,10j,\"sobuj\",True)\n",
    "print(type(tp))\n",
    "\n",
    "setA={1,5,9,10,4}\n",
    "print(type(setA))\n"
   ]
  },
  {
   "cell_type": "code",
   "execution_count": null,
   "metadata": {},
   "outputs": [],
   "source": [
    "# Data Manipulation\n"
   ]
  },
  {
   "cell_type": "markdown",
   "metadata": {},
   "source": [
    "### String functions"
   ]
  },
  {
   "cell_type": "code",
   "execution_count": 35,
   "metadata": {},
   "outputs": [
    {
     "name": "stdout",
     "output_type": "stream",
     "text": [
      "Md. mohidul islam sobuj\n",
      "md. mohidul islam sobuj\n",
      "MD. MOHIDUL ISLAM SOBUJ\n",
      "Md. Mohidul Islam Sobuj\n",
      "True\n",
      "False\n",
      "3\n",
      "True\n",
      "['md.', 'mohidul', 'IslAm', 'soBuj']\n"
     ]
    }
   ],
   "source": [
    "#String functions\n",
    "name=\"md. mohidul IslAm soBuj\"\n",
    "print(name.capitalize())\n",
    "print(name.lower())\n",
    "print(name.upper())\n",
    "print(name.title())\n",
    "\n",
    "print(name.startswith(\"md\"))\n",
    "print(name.endswith(\"md\"))\n",
    "print(name.count(\"m\"))\n",
    "print(name.lower().endswith(\"sobuj\"))\n",
    "\n",
    "\n",
    "#Split String\n",
    "print(name.split(' '))\n",
    "\n"
   ]
  },
  {
   "cell_type": "markdown",
   "metadata": {},
   "source": [
    "### Data Type Casting"
   ]
  },
  {
   "cell_type": "code",
   "execution_count": 46,
   "metadata": {},
   "outputs": [
    {
     "name": "stdout",
     "output_type": "stream",
     "text": [
      "<class 'str'>\n",
      "<class 'int'>\n",
      "30.0\n",
      "(30+0j)\n",
      "True\n",
      "0b11110\n",
      "0o36\n",
      "0x1e\n"
     ]
    }
   ],
   "source": [
    "age=\"30\"\n",
    "print(type(age))\n",
    "age=int(age)\n",
    "print(type(age))\n",
    "print(float(age))\n",
    "\n",
    "print(complex(age))\n",
    "\n",
    "print(bool(age))\n",
    "\n",
    "print(bin(age))\n",
    "print(oct(age))\n",
    "print(hex(age))\n",
    "\n"
   ]
  },
  {
   "cell_type": "code",
   "execution_count": 55,
   "metadata": {},
   "outputs": [
    {
     "name": "stdout",
     "output_type": "stream",
     "text": [
      "a\n",
      "97\n"
     ]
    }
   ],
   "source": [
    "print(chr(97))\n",
    "\n",
    "print(ord('a'))"
   ]
  }
 ],
 "metadata": {
  "kernelspec": {
   "display_name": "Python 3.10.1 64-bit",
   "language": "python",
   "name": "python3"
  },
  "language_info": {
   "codemirror_mode": {
    "name": "ipython",
    "version": 3
   },
   "file_extension": ".py",
   "mimetype": "text/x-python",
   "name": "python",
   "nbconvert_exporter": "python",
   "pygments_lexer": "ipython3",
   "version": "3.10.1"
  },
  "orig_nbformat": 4,
  "vscode": {
   "interpreter": {
    "hash": "bcc784fc4c981d200f22a4bcb0a5bae6ff96a52caf99033103a88052d23824c8"
   }
  }
 },
 "nbformat": 4,
 "nbformat_minor": 2
}
